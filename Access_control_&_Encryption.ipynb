{
  "nbformat": 4,
  "nbformat_minor": 0,
  "metadata": {
    "colab": {
      "provenance": []
    },
    "kernelspec": {
      "name": "python3",
      "display_name": "Python 3"
    },
    "language_info": {
      "name": "python"
    }
  },
  "cells": [
    {
      "cell_type": "code",
      "execution_count": 1,
      "metadata": {
        "colab": {
          "base_uri": "https://localhost:8080/"
        },
        "id": "LLUbccsh10hz",
        "outputId": "0ba3339d-d5c6-4aee-8d7c-8011aaedc5d6"
      },
      "outputs": [
        {
          "output_type": "stream",
          "name": "stdout",
          "text": [
            "Requirement already satisfied: cryptography in /usr/local/lib/python3.10/dist-packages (41.0.7)\n",
            "Requirement already satisfied: cffi>=1.12 in /usr/local/lib/python3.10/dist-packages (from cryptography) (1.16.0)\n",
            "Requirement already satisfied: pycparser in /usr/local/lib/python3.10/dist-packages (from cffi>=1.12->cryptography) (2.21)\n"
          ]
        }
      ],
      "source": [
        "!pip install cryptography"
      ]
    },
    {
      "cell_type": "code",
      "source": [
        "from cryptography.fernet import Fernet\n",
        "\n",
        "# Generate a key\n",
        "key = Fernet.generate_key()\n",
        "\n",
        "# Initialize Fernet cipher with the key\n",
        "cipher = Fernet(key)\n",
        "\n",
        "# Encrypt health data\n",
        "health_data = b\"Sample health data to be encrypted\"\n",
        "encrypted_data = cipher.encrypt(health_data)\n",
        "\n",
        "# Display encrypted data\n",
        "print(\"Encrypted data:\", encrypted_data)"
      ],
      "metadata": {
        "colab": {
          "base_uri": "https://localhost:8080/"
        },
        "id": "la_6ttO813VL",
        "outputId": "643ee4f1-59ff-4f7e-e9b9-33bc0735791f"
      },
      "execution_count": 5,
      "outputs": [
        {
          "output_type": "stream",
          "name": "stdout",
          "text": [
            "Encrypted data: b'gAAAAABlnOOUS-g9qbchkc6glXIK-GarCGJe0o0-DhGKzcHH_JekK6dc3qd9FE-lcjRi0q9i2sv1xmwfD4mwEUTWnsCqZH45KRReTg5Oeg0fJjAV5AAkvp7HLHDnZqfOczCQvyQX9ZEx'\n"
          ]
        }
      ]
    },
    {
      "cell_type": "code",
      "source": [
        "# Define user roles and permissions\n",
        "roles = {\n",
        "    \"admin\": [\"read\", \"write\", \"delete\"],\n",
        "    \"user\": [\"read\"]\n",
        "}\n",
        "\n",
        "# Simulate encrypted key generation for user \"john\"\n",
        "def generate_encrypted_key(username, password):\n",
        "    # Encrypt key using username and password (this is a simplistic example)\n",
        "    return hash(username + password)  # Replace this with actual encryption logic\n",
        "\n",
        "# Simulate user login using encrypted key\n",
        "def login(username, encrypted_key):\n",
        "    # Authenticate user based on encrypted key\n",
        "    stored_key = generate_encrypted_key(\"john\", \"password123\")  # Simulated stored encrypted key for user \"john\"\n",
        "\n",
        "    if encrypted_key == stored_key:\n",
        "        return assign_role(username)\n",
        "    else:\n",
        "        return \"Invalid key\"  # If the encrypted key does not match\n",
        "\n",
        "def assign_role(username):\n",
        "    # Logic to assign role based on username\n",
        "    if username == \"john\":\n",
        "        return \"user\"  # Assign the role \"user\" for username \"john\"\n",
        "    else:\n",
        "        return \"invalid\"  # Return invalid role for other usernames\n",
        "\n",
        "# Check access based on user role and permissions\n",
        "def check_access(user_role, resource, action):\n",
        "    if user_role in roles:\n",
        "        if action in roles[user_role]:\n",
        "            return f\"Access granted: {user_role} can {action} {resource}\"\n",
        "        else:\n",
        "            return f\"Access denied: {user_role} cannot {action} {resource}\"\n",
        "    else:\n",
        "        return f\"Invalid user role: {user_role}\"\n",
        "\n",
        "# Simulate encrypted key for user \"john\" and use it for login\n",
        "encrypted_key = generate_encrypted_key(\"john\", \"password123\")  # Generate encrypted key\n",
        "user_role = login(\"john\", encrypted_key)  # Simulating user login with encrypted key\n",
        "result = check_access(user_role, \"patient_data\", \"read\")\n",
        "print(result)"
      ],
      "metadata": {
        "colab": {
          "base_uri": "https://localhost:8080/"
        },
        "id": "w7nWV2OE1_mV",
        "outputId": "389818bb-44c0-4364-ea68-8107aa8c6361"
      },
      "execution_count": 3,
      "outputs": [
        {
          "output_type": "stream",
          "name": "stdout",
          "text": [
            "Access granted: user can read patient_data\n"
          ]
        }
      ]
    },
    {
      "cell_type": "code",
      "source": [
        "from cryptography.hazmat.primitives import hashes\n",
        "from cryptography.hazmat.primitives.kdf.pbkdf2 import PBKDF2HMAC\n",
        "\n",
        "# Define user roles and permissions\n",
        "roles = {\n",
        "    \"admin\": [\"read\", \"write\", \"delete\"],\n",
        "    \"user\": [\"read\"]\n",
        "}\n",
        "\n",
        "# Function to generate encrypted key using cryptography library\n",
        "def generate_encrypted_key(username, password):\n",
        "    # Convert username and password to bytes\n",
        "    username_bytes = username.encode()\n",
        "    password_bytes = password.encode()\n",
        "\n",
        "    # Use PBKDF2 for key derivation\n",
        "    kdf = PBKDF2HMAC(\n",
        "        algorithm=hashes.SHA256(),\n",
        "        length=32,  # Use 256-bit key length (adjust as needed)\n",
        "        salt=b'salt_value',  # Replace with a random salt (must be the same for each user)\n",
        "        iterations=100000,  # Adjust the number of iterations as needed\n",
        "    )\n",
        "    # Derive the key using username and password\n",
        "    key = kdf.derive(username_bytes + password_bytes)\n",
        "    return key\n",
        "\n",
        "# Simulate user login using encrypted key\n",
        "def login(username, encrypted_key):\n",
        "    # Simulate stored encrypted key for user \"john\"\n",
        "    stored_encrypted_key = generate_encrypted_key(\"john\", \"password123\")\n",
        "\n",
        "    if encrypted_key == stored_encrypted_key:\n",
        "        return assign_role(username)\n",
        "    else:\n",
        "        return \"Invalid key\"  # If the encrypted key does not match\n",
        "\n",
        "# Function to assign role based on username\n",
        "def assign_role(username):\n",
        "    # Logic to assign role based on username\n",
        "    if username == \"john\":\n",
        "        return \"user\"  # Assign the role \"user\" for username \"john\"\n",
        "    else:\n",
        "        return \"invalid\"  # Return invalid role for other usernames\n",
        "\n",
        "# Function to check access based on user role and permissions\n",
        "def check_access(user_role, resource, action):\n",
        "    if user_role in roles:\n",
        "        if action in roles[user_role]:\n",
        "            return f\"Access granted: {user_role} can {action} {resource}\"\n",
        "        else:\n",
        "            return f\"Access denied: {user_role} cannot {action} {resource}\"\n",
        "    else:\n",
        "        return f\"Invalid user role: {user_role}\"\n",
        "\n",
        "# Simulate encrypted key for user \"john\" and use it for login\n",
        "encrypted_key = generate_encrypted_key(\"john\", \"password123\")  # Generate encrypted key\n",
        "user_role = login(\"john\", encrypted_key)  # Simulating user login with encrypted key\n",
        "result = check_access(user_role, \"patient_data\", \"read\")\n",
        "print(result)"
      ],
      "metadata": {
        "colab": {
          "base_uri": "https://localhost:8080/"
        },
        "id": "f2RPn1rB2FRK",
        "outputId": "4661666b-87a1-42b9-fb0d-0a8229664957"
      },
      "execution_count": 6,
      "outputs": [
        {
          "output_type": "stream",
          "name": "stdout",
          "text": [
            "Access granted: user can read patient_data\n"
          ]
        }
      ]
    }
  ]
}